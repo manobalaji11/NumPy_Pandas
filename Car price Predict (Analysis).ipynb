{
 "cells": [
  {
   "cell_type": "code",
   "execution_count": 261,
   "id": "a80a64b2-532c-4a6a-8c7c-9602e5148115",
   "metadata": {},
   "outputs": [],
   "source": [
    "import pandas as pd\n",
    "import numpy as np\n",
    "import matplotlib.pyplot as plt\n",
    "import seaborn as sns\n",
    "import warnings\n",
    "warnings.filterwarnings('ignore')"
   ]
  },
  {
   "cell_type": "code",
   "execution_count": 263,
   "id": "43e2b3b0-1e8c-4aa2-ae27-da7c41f55d1c",
   "metadata": {},
   "outputs": [
    {
     "data": {
      "text/html": [
       "<div>\n",
       "<style scoped>\n",
       "    .dataframe tbody tr th:only-of-type {\n",
       "        vertical-align: middle;\n",
       "    }\n",
       "\n",
       "    .dataframe tbody tr th {\n",
       "        vertical-align: top;\n",
       "    }\n",
       "\n",
       "    .dataframe thead th {\n",
       "        text-align: right;\n",
       "    }\n",
       "</style>\n",
       "<table border=\"1\" class=\"dataframe\">\n",
       "  <thead>\n",
       "    <tr style=\"text-align: right;\">\n",
       "      <th></th>\n",
       "      <th>Id</th>\n",
       "      <th>Maker</th>\n",
       "      <th>model</th>\n",
       "      <th>Location</th>\n",
       "      <th>Distance</th>\n",
       "      <th>Owner Type</th>\n",
       "      <th>manufacture_year</th>\n",
       "      <th>Age of car</th>\n",
       "      <th>engine_displacement</th>\n",
       "      <th>engine_power</th>\n",
       "      <th>body_type</th>\n",
       "      <th>Vroom Audit Rating</th>\n",
       "      <th>transmission</th>\n",
       "      <th>door_count</th>\n",
       "      <th>seat_count</th>\n",
       "      <th>fuel_type</th>\n",
       "      <th>Price</th>\n",
       "    </tr>\n",
       "  </thead>\n",
       "  <tbody>\n",
       "    <tr>\n",
       "      <th>0</th>\n",
       "      <td>25001</td>\n",
       "      <td>skoda</td>\n",
       "      <td>octavia</td>\n",
       "      <td>Ahmedabad</td>\n",
       "      <td>NaN</td>\n",
       "      <td>Second</td>\n",
       "      <td>1964</td>\n",
       "      <td>55</td>\n",
       "      <td>1964</td>\n",
       "      <td>147.0</td>\n",
       "      <td>compact</td>\n",
       "      <td>8</td>\n",
       "      <td>man</td>\n",
       "      <td>NaN</td>\n",
       "      <td>NaN</td>\n",
       "      <td>petrol</td>\n",
       "      <td>543764.25</td>\n",
       "    </tr>\n",
       "    <tr>\n",
       "      <th>1</th>\n",
       "      <td>25002</td>\n",
       "      <td>fiat</td>\n",
       "      <td>panda</td>\n",
       "      <td>Ahmedabad</td>\n",
       "      <td>27750.0</td>\n",
       "      <td>Third</td>\n",
       "      <td>2012</td>\n",
       "      <td>7</td>\n",
       "      <td>1242</td>\n",
       "      <td>51.0</td>\n",
       "      <td>NaN</td>\n",
       "      <td>6</td>\n",
       "      <td>man</td>\n",
       "      <td>4.0</td>\n",
       "      <td>4.0</td>\n",
       "      <td>petrol</td>\n",
       "      <td>401819.25</td>\n",
       "    </tr>\n",
       "    <tr>\n",
       "      <th>2</th>\n",
       "      <td>25003</td>\n",
       "      <td>bmw</td>\n",
       "      <td>x1</td>\n",
       "      <td>Hyderabad</td>\n",
       "      <td>46000.0</td>\n",
       "      <td>Third</td>\n",
       "      <td>2014</td>\n",
       "      <td>5</td>\n",
       "      <td>1995</td>\n",
       "      <td>105.0</td>\n",
       "      <td>NaN</td>\n",
       "      <td>7</td>\n",
       "      <td>auto</td>\n",
       "      <td>4.0</td>\n",
       "      <td>5.0</td>\n",
       "      <td>diesel</td>\n",
       "      <td>2392855.50</td>\n",
       "    </tr>\n",
       "    <tr>\n",
       "      <th>3</th>\n",
       "      <td>25004</td>\n",
       "      <td>nissan</td>\n",
       "      <td>juke</td>\n",
       "      <td>Mumbai</td>\n",
       "      <td>43949.0</td>\n",
       "      <td>Third</td>\n",
       "      <td>2011</td>\n",
       "      <td>8</td>\n",
       "      <td>1618</td>\n",
       "      <td>140.0</td>\n",
       "      <td>NaN</td>\n",
       "      <td>7</td>\n",
       "      <td>man</td>\n",
       "      <td>4.0</td>\n",
       "      <td>5.0</td>\n",
       "      <td>petrol</td>\n",
       "      <td>958606.50</td>\n",
       "    </tr>\n",
       "    <tr>\n",
       "      <th>4</th>\n",
       "      <td>25005</td>\n",
       "      <td>bmw</td>\n",
       "      <td>x5</td>\n",
       "      <td>Jaipur</td>\n",
       "      <td>59524.0</td>\n",
       "      <td>Fourth &amp; Above</td>\n",
       "      <td>2012</td>\n",
       "      <td>7</td>\n",
       "      <td>2993</td>\n",
       "      <td>180.0</td>\n",
       "      <td>NaN</td>\n",
       "      <td>7</td>\n",
       "      <td>auto</td>\n",
       "      <td>4.0</td>\n",
       "      <td>5.0</td>\n",
       "      <td>diesel</td>\n",
       "      <td>3085561.50</td>\n",
       "    </tr>\n",
       "    <tr>\n",
       "      <th>...</th>\n",
       "      <td>...</td>\n",
       "      <td>...</td>\n",
       "      <td>...</td>\n",
       "      <td>...</td>\n",
       "      <td>...</td>\n",
       "      <td>...</td>\n",
       "      <td>...</td>\n",
       "      <td>...</td>\n",
       "      <td>...</td>\n",
       "      <td>...</td>\n",
       "      <td>...</td>\n",
       "      <td>...</td>\n",
       "      <td>...</td>\n",
       "      <td>...</td>\n",
       "      <td>...</td>\n",
       "      <td>...</td>\n",
       "      <td>...</td>\n",
       "    </tr>\n",
       "    <tr>\n",
       "      <th>53510</th>\n",
       "      <td>78511</td>\n",
       "      <td>skoda</td>\n",
       "      <td>octavia</td>\n",
       "      <td>Delhi</td>\n",
       "      <td>29334.0</td>\n",
       "      <td>Fourth &amp; Above</td>\n",
       "      <td>2014</td>\n",
       "      <td>5</td>\n",
       "      <td>1598</td>\n",
       "      <td>77.0</td>\n",
       "      <td>NaN</td>\n",
       "      <td>4</td>\n",
       "      <td>man</td>\n",
       "      <td>4.0</td>\n",
       "      <td>5.0</td>\n",
       "      <td>diesel</td>\n",
       "      <td>1342996.50</td>\n",
       "    </tr>\n",
       "    <tr>\n",
       "      <th>53511</th>\n",
       "      <td>78512</td>\n",
       "      <td>skoda</td>\n",
       "      <td>octavia</td>\n",
       "      <td>Bangalore</td>\n",
       "      <td>223631.0</td>\n",
       "      <td>Fourth &amp; Above</td>\n",
       "      <td>2009</td>\n",
       "      <td>10</td>\n",
       "      <td>1900</td>\n",
       "      <td>77.0</td>\n",
       "      <td>NaN</td>\n",
       "      <td>8</td>\n",
       "      <td>man</td>\n",
       "      <td>5.0</td>\n",
       "      <td>5.0</td>\n",
       "      <td>diesel</td>\n",
       "      <td>510732.75</td>\n",
       "    </tr>\n",
       "    <tr>\n",
       "      <th>53512</th>\n",
       "      <td>78513</td>\n",
       "      <td>bmw</td>\n",
       "      <td>x1</td>\n",
       "      <td>Pune</td>\n",
       "      <td>25500.0</td>\n",
       "      <td>Third</td>\n",
       "      <td>2015</td>\n",
       "      <td>4</td>\n",
       "      <td>1995</td>\n",
       "      <td>105.0</td>\n",
       "      <td>NaN</td>\n",
       "      <td>4</td>\n",
       "      <td>auto</td>\n",
       "      <td>4.0</td>\n",
       "      <td>5.0</td>\n",
       "      <td>diesel</td>\n",
       "      <td>2008123.50</td>\n",
       "    </tr>\n",
       "    <tr>\n",
       "      <th>53513</th>\n",
       "      <td>78514</td>\n",
       "      <td>toyota</td>\n",
       "      <td>avensis</td>\n",
       "      <td>Jaipur</td>\n",
       "      <td>1195500.0</td>\n",
       "      <td>Third</td>\n",
       "      <td>2011</td>\n",
       "      <td>8</td>\n",
       "      <td>11950</td>\n",
       "      <td>93.0</td>\n",
       "      <td>compact</td>\n",
       "      <td>5</td>\n",
       "      <td>man</td>\n",
       "      <td>NaN</td>\n",
       "      <td>NaN</td>\n",
       "      <td>diesel</td>\n",
       "      <td>874352.25</td>\n",
       "    </tr>\n",
       "    <tr>\n",
       "      <th>53514</th>\n",
       "      <td>78515</td>\n",
       "      <td>bmw</td>\n",
       "      <td>x5</td>\n",
       "      <td>Kochi</td>\n",
       "      <td>142000.0</td>\n",
       "      <td>First</td>\n",
       "      <td>2008</td>\n",
       "      <td>11</td>\n",
       "      <td>2993</td>\n",
       "      <td>173.0</td>\n",
       "      <td>NaN</td>\n",
       "      <td>4</td>\n",
       "      <td>auto</td>\n",
       "      <td>5.0</td>\n",
       "      <td>5.0</td>\n",
       "      <td>diesel</td>\n",
       "      <td>1576610.25</td>\n",
       "    </tr>\n",
       "  </tbody>\n",
       "</table>\n",
       "<p>53515 rows × 17 columns</p>\n",
       "</div>"
      ],
      "text/plain": [
       "          Id   Maker    model   Location  Distance       Owner Type  \\\n",
       "0      25001   skoda  octavia  Ahmedabad        NaN          Second   \n",
       "1      25002    fiat    panda  Ahmedabad    27750.0           Third   \n",
       "2      25003     bmw       x1  Hyderabad    46000.0           Third   \n",
       "3      25004  nissan     juke     Mumbai    43949.0           Third   \n",
       "4      25005     bmw       x5     Jaipur    59524.0  Fourth & Above   \n",
       "...      ...     ...      ...        ...        ...             ...   \n",
       "53510  78511   skoda  octavia      Delhi    29334.0  Fourth & Above   \n",
       "53511  78512   skoda  octavia  Bangalore   223631.0  Fourth & Above   \n",
       "53512  78513     bmw       x1       Pune    25500.0           Third   \n",
       "53513  78514  toyota  avensis     Jaipur  1195500.0           Third   \n",
       "53514  78515     bmw       x5      Kochi   142000.0           First   \n",
       "\n",
       "       manufacture_year  Age of car  engine_displacement  engine_power  \\\n",
       "0                  1964          55                 1964         147.0   \n",
       "1                  2012           7                 1242          51.0   \n",
       "2                  2014           5                 1995         105.0   \n",
       "3                  2011           8                 1618         140.0   \n",
       "4                  2012           7                 2993         180.0   \n",
       "...                 ...         ...                  ...           ...   \n",
       "53510              2014           5                 1598          77.0   \n",
       "53511              2009          10                 1900          77.0   \n",
       "53512              2015           4                 1995         105.0   \n",
       "53513              2011           8                11950          93.0   \n",
       "53514              2008          11                 2993         173.0   \n",
       "\n",
       "      body_type  Vroom Audit Rating transmission  door_count  seat_count  \\\n",
       "0       compact                   8          man         NaN         NaN   \n",
       "1           NaN                   6          man         4.0         4.0   \n",
       "2           NaN                   7         auto         4.0         5.0   \n",
       "3           NaN                   7          man         4.0         5.0   \n",
       "4           NaN                   7         auto         4.0         5.0   \n",
       "...         ...                 ...          ...         ...         ...   \n",
       "53510       NaN                   4          man         4.0         5.0   \n",
       "53511       NaN                   8          man         5.0         5.0   \n",
       "53512       NaN                   4         auto         4.0         5.0   \n",
       "53513   compact                   5          man         NaN         NaN   \n",
       "53514       NaN                   4         auto         5.0         5.0   \n",
       "\n",
       "      fuel_type       Price  \n",
       "0        petrol   543764.25  \n",
       "1        petrol   401819.25  \n",
       "2        diesel  2392855.50  \n",
       "3        petrol   958606.50  \n",
       "4        diesel  3085561.50  \n",
       "...         ...         ...  \n",
       "53510    diesel  1342996.50  \n",
       "53511    diesel   510732.75  \n",
       "53512    diesel  2008123.50  \n",
       "53513    diesel   874352.25  \n",
       "53514    diesel  1576610.25  \n",
       "\n",
       "[53515 rows x 17 columns]"
      ]
     },
     "execution_count": 263,
     "metadata": {},
     "output_type": "execute_result"
    }
   ],
   "source": [
    "df=pd.read_csv('Training_Data_Set.csv')\n",
    "df"
   ]
  },
  {
   "cell_type": "code",
   "execution_count": 265,
   "id": "aa8a8006-017a-40c6-a09a-7ed5c6abfa44",
   "metadata": {},
   "outputs": [],
   "source": [
    "df.drop(columns=['body_type'],inplace=True)"
   ]
  },
  {
   "cell_type": "code",
   "execution_count": 267,
   "id": "df423486-7f1d-4c52-876c-afa02a7e2fe8",
   "metadata": {},
   "outputs": [],
   "source": [
    "df['Distance '].fillna(df['Distance '].median(),inplace=True)"
   ]
  },
  {
   "cell_type": "code",
   "execution_count": 269,
   "id": "b5a8942c-0ff3-4ed2-acb2-dc5696d3491b",
   "metadata": {},
   "outputs": [],
   "source": [
    "df['engine_power'].fillna(df['engine_power'].median(),inplace=True)"
   ]
  },
  {
   "cell_type": "code",
   "execution_count": 271,
   "id": "82dccfee-817e-4138-8c81-2950ae07ceab",
   "metadata": {},
   "outputs": [],
   "source": [
    "df['seat_count'].fillna(df['seat_count'].mean(),inplace=True)"
   ]
  },
  {
   "cell_type": "code",
   "execution_count": 273,
   "id": "0973204a-e8a0-404a-8c52-415d5aadc3b3",
   "metadata": {},
   "outputs": [],
   "source": [
    "df['door_count'].fillna(df['door_count'].mode()[0],inplace=True)"
   ]
  },
  {
   "cell_type": "code",
   "execution_count": 275,
   "id": "8684a8b0-ca0e-4dbc-a9d3-4010b7a2181e",
   "metadata": {},
   "outputs": [
    {
     "data": {
      "text/plain": [
       "Index(['Id', 'Maker', 'model', 'Location', 'Distance ', 'Owner Type',\n",
       "       'manufacture_year', 'Age of car', 'engine_displacement', 'engine_power',\n",
       "       'Vroom Audit Rating', 'transmission', 'door_count', 'seat_count',\n",
       "       'fuel_type', 'Price'],\n",
       "      dtype='object')"
      ]
     },
     "execution_count": 275,
     "metadata": {},
     "output_type": "execute_result"
    }
   ],
   "source": [
    "df.columns"
   ]
  },
  {
   "cell_type": "code",
   "execution_count": 277,
   "id": "088d4581-6765-4259-86aa-54c428364170",
   "metadata": {},
   "outputs": [
    {
     "data": {
      "text/plain": [
       "Id                       int64\n",
       "Maker                   object\n",
       "model                   object\n",
       "Location                object\n",
       "Distance               float64\n",
       "Owner Type              object\n",
       "manufacture_year         int64\n",
       "Age of car               int64\n",
       "engine_displacement      int64\n",
       "engine_power           float64\n",
       "Vroom Audit Rating       int64\n",
       "transmission            object\n",
       "door_count             float64\n",
       "seat_count             float64\n",
       "fuel_type               object\n",
       "Price                  float64\n",
       "dtype: object"
      ]
     },
     "execution_count": 277,
     "metadata": {},
     "output_type": "execute_result"
    }
   ],
   "source": [
    "df.dtypes"
   ]
  },
  {
   "cell_type": "code",
   "execution_count": 279,
   "id": "da1be415-8075-464f-8592-21c8d420af05",
   "metadata": {},
   "outputs": [
    {
     "data": {
      "text/plain": [
       "Id                     0\n",
       "Maker                  0\n",
       "model                  0\n",
       "Location               0\n",
       "Distance               0\n",
       "Owner Type             0\n",
       "manufacture_year       0\n",
       "Age of car             0\n",
       "engine_displacement    0\n",
       "engine_power           0\n",
       "Vroom Audit Rating     0\n",
       "transmission           0\n",
       "door_count             0\n",
       "seat_count             0\n",
       "fuel_type              0\n",
       "Price                  0\n",
       "dtype: int64"
      ]
     },
     "execution_count": 279,
     "metadata": {},
     "output_type": "execute_result"
    }
   ],
   "source": [
    "\n",
    "df.isnull().sum()"
   ]
  },
  {
   "cell_type": "code",
   "execution_count": 281,
   "id": "61b0dd7c-0930-4760-ab96-bdff8510e988",
   "metadata": {},
   "outputs": [
    {
     "data": {
      "text/plain": [
       "Maker           object\n",
       "model           object\n",
       "Location        object\n",
       "Owner Type      object\n",
       "transmission    object\n",
       "fuel_type       object\n",
       "dtype: object"
      ]
     },
     "execution_count": 281,
     "metadata": {},
     "output_type": "execute_result"
    }
   ],
   "source": [
    "df_cat=df.select_dtypes(include=object)\n",
    "df_cat.dtypes"
   ]
  },
  {
   "cell_type": "code",
   "execution_count": 283,
   "id": "91bbec87-9654-46c5-90c7-d354613c7bc3",
   "metadata": {},
   "outputs": [
    {
     "data": {
      "text/plain": [
       "Id                       int64\n",
       "Distance               float64\n",
       "manufacture_year         int64\n",
       "Age of car               int64\n",
       "engine_displacement      int64\n",
       "engine_power           float64\n",
       "Vroom Audit Rating       int64\n",
       "door_count             float64\n",
       "seat_count             float64\n",
       "Price                  float64\n",
       "dtype: object"
      ]
     },
     "execution_count": 283,
     "metadata": {},
     "output_type": "execute_result"
    }
   ],
   "source": [
    "df_num=df.select_dtypes(exclude=object)\n",
    "df_num.dtypes"
   ]
  },
  {
   "cell_type": "code",
   "execution_count": 285,
   "id": "5255b128-139d-4591-a19c-9b6a872dee38",
   "metadata": {},
   "outputs": [],
   "source": [
    "df_num=df_num.astype(int)"
   ]
  },
  {
   "cell_type": "code",
   "execution_count": 287,
   "id": "b18543ed-75e5-40bc-bdc0-f17e7025cd73",
   "metadata": {},
   "outputs": [
    {
     "data": {
      "text/plain": [
       "Id                     int32\n",
       "Distance               int32\n",
       "manufacture_year       int32\n",
       "Age of car             int32\n",
       "engine_displacement    int32\n",
       "engine_power           int32\n",
       "Vroom Audit Rating     int32\n",
       "door_count             int32\n",
       "seat_count             int32\n",
       "Price                  int32\n",
       "dtype: object"
      ]
     },
     "execution_count": 287,
     "metadata": {},
     "output_type": "execute_result"
    }
   ],
   "source": [
    "df_num.dtypes"
   ]
  },
  {
   "cell_type": "code",
   "execution_count": 289,
   "id": "c59903d9-ff95-4264-bfaa-955415883005",
   "metadata": {},
   "outputs": [
    {
     "data": {
      "text/plain": [
       "Maker           object\n",
       "model           object\n",
       "Location        object\n",
       "Owner Type      object\n",
       "transmission    object\n",
       "fuel_type       object\n",
       "dtype: object"
      ]
     },
     "execution_count": 289,
     "metadata": {},
     "output_type": "execute_result"
    }
   ],
   "source": [
    "df_cat.dtypes"
   ]
  },
  {
   "cell_type": "code",
   "execution_count": 291,
   "id": "e9cc8187-006f-477e-bb80-60bf8e6b8ee3",
   "metadata": {},
   "outputs": [],
   "source": [
    "from sklearn.preprocessing import LabelEncoder\n",
    "le=LabelEncoder()"
   ]
  },
  {
   "cell_type": "code",
   "execution_count": 293,
   "id": "10b12861-d357-48db-97c2-ffb25326b19f",
   "metadata": {},
   "outputs": [],
   "source": [
    "df_cat['Maker']=le.fit_transform(df_cat['Maker'])\n",
    "df_cat['model']=le.fit_transform(df_cat['model'])\n",
    "df_cat['Location']=le.fit_transform(df_cat['Location'])\n",
    "df_cat['Owner Type']=le.fit_transform(df_cat['Owner Type'])\n",
    "df_cat['transmission']=le.fit_transform(df_cat['transmission'])\n",
    "df_cat['fuel_type']=le.fit_transform(df_cat['fuel_type'])"
   ]
  },
  {
   "cell_type": "code",
   "execution_count": 295,
   "id": "bda08822-67f6-4e0b-bb4a-724854b9d09d",
   "metadata": {},
   "outputs": [],
   "source": [
    "df=pd.concat([df_cat,df_num],axis=1)"
   ]
  },
  {
   "cell_type": "code",
   "execution_count": 297,
   "id": "63fe2033-bfa0-49c8-ae47-037a924f824f",
   "metadata": {},
   "outputs": [
    {
     "data": {
      "text/html": [
       "<div>\n",
       "<style scoped>\n",
       "    .dataframe tbody tr th:only-of-type {\n",
       "        vertical-align: middle;\n",
       "    }\n",
       "\n",
       "    .dataframe tbody tr th {\n",
       "        vertical-align: top;\n",
       "    }\n",
       "\n",
       "    .dataframe thead th {\n",
       "        text-align: right;\n",
       "    }\n",
       "</style>\n",
       "<table border=\"1\" class=\"dataframe\">\n",
       "  <thead>\n",
       "    <tr style=\"text-align: right;\">\n",
       "      <th></th>\n",
       "      <th>Maker</th>\n",
       "      <th>model</th>\n",
       "      <th>Location</th>\n",
       "      <th>Owner Type</th>\n",
       "      <th>transmission</th>\n",
       "      <th>fuel_type</th>\n",
       "      <th>Id</th>\n",
       "      <th>Distance</th>\n",
       "      <th>manufacture_year</th>\n",
       "      <th>Age of car</th>\n",
       "      <th>engine_displacement</th>\n",
       "      <th>engine_power</th>\n",
       "      <th>Vroom Audit Rating</th>\n",
       "      <th>door_count</th>\n",
       "      <th>seat_count</th>\n",
       "      <th>Price</th>\n",
       "    </tr>\n",
       "  </thead>\n",
       "  <tbody>\n",
       "    <tr>\n",
       "      <th>0</th>\n",
       "      <td>6</td>\n",
       "      <td>8</td>\n",
       "      <td>0</td>\n",
       "      <td>2</td>\n",
       "      <td>1</td>\n",
       "      <td>1</td>\n",
       "      <td>25001</td>\n",
       "      <td>65520</td>\n",
       "      <td>1964</td>\n",
       "      <td>55</td>\n",
       "      <td>1964</td>\n",
       "      <td>147</td>\n",
       "      <td>8</td>\n",
       "      <td>4</td>\n",
       "      <td>4</td>\n",
       "      <td>543764</td>\n",
       "    </tr>\n",
       "    <tr>\n",
       "      <th>1</th>\n",
       "      <td>2</td>\n",
       "      <td>9</td>\n",
       "      <td>0</td>\n",
       "      <td>3</td>\n",
       "      <td>1</td>\n",
       "      <td>1</td>\n",
       "      <td>25002</td>\n",
       "      <td>27750</td>\n",
       "      <td>2012</td>\n",
       "      <td>7</td>\n",
       "      <td>1242</td>\n",
       "      <td>51</td>\n",
       "      <td>6</td>\n",
       "      <td>4</td>\n",
       "      <td>4</td>\n",
       "      <td>401819</td>\n",
       "    </tr>\n",
       "    <tr>\n",
       "      <th>2</th>\n",
       "      <td>1</td>\n",
       "      <td>18</td>\n",
       "      <td>5</td>\n",
       "      <td>3</td>\n",
       "      <td>0</td>\n",
       "      <td>0</td>\n",
       "      <td>25003</td>\n",
       "      <td>46000</td>\n",
       "      <td>2014</td>\n",
       "      <td>5</td>\n",
       "      <td>1995</td>\n",
       "      <td>105</td>\n",
       "      <td>7</td>\n",
       "      <td>4</td>\n",
       "      <td>5</td>\n",
       "      <td>2392855</td>\n",
       "    </tr>\n",
       "    <tr>\n",
       "      <th>3</th>\n",
       "      <td>5</td>\n",
       "      <td>6</td>\n",
       "      <td>9</td>\n",
       "      <td>3</td>\n",
       "      <td>1</td>\n",
       "      <td>1</td>\n",
       "      <td>25004</td>\n",
       "      <td>43949</td>\n",
       "      <td>2011</td>\n",
       "      <td>8</td>\n",
       "      <td>1618</td>\n",
       "      <td>140</td>\n",
       "      <td>7</td>\n",
       "      <td>4</td>\n",
       "      <td>5</td>\n",
       "      <td>958606</td>\n",
       "    </tr>\n",
       "    <tr>\n",
       "      <th>4</th>\n",
       "      <td>1</td>\n",
       "      <td>20</td>\n",
       "      <td>6</td>\n",
       "      <td>1</td>\n",
       "      <td>0</td>\n",
       "      <td>0</td>\n",
       "      <td>25005</td>\n",
       "      <td>59524</td>\n",
       "      <td>2012</td>\n",
       "      <td>7</td>\n",
       "      <td>2993</td>\n",
       "      <td>180</td>\n",
       "      <td>7</td>\n",
       "      <td>4</td>\n",
       "      <td>5</td>\n",
       "      <td>3085561</td>\n",
       "    </tr>\n",
       "    <tr>\n",
       "      <th>...</th>\n",
       "      <td>...</td>\n",
       "      <td>...</td>\n",
       "      <td>...</td>\n",
       "      <td>...</td>\n",
       "      <td>...</td>\n",
       "      <td>...</td>\n",
       "      <td>...</td>\n",
       "      <td>...</td>\n",
       "      <td>...</td>\n",
       "      <td>...</td>\n",
       "      <td>...</td>\n",
       "      <td>...</td>\n",
       "      <td>...</td>\n",
       "      <td>...</td>\n",
       "      <td>...</td>\n",
       "      <td>...</td>\n",
       "    </tr>\n",
       "    <tr>\n",
       "      <th>53510</th>\n",
       "      <td>6</td>\n",
       "      <td>8</td>\n",
       "      <td>4</td>\n",
       "      <td>1</td>\n",
       "      <td>1</td>\n",
       "      <td>0</td>\n",
       "      <td>78511</td>\n",
       "      <td>29334</td>\n",
       "      <td>2014</td>\n",
       "      <td>5</td>\n",
       "      <td>1598</td>\n",
       "      <td>77</td>\n",
       "      <td>4</td>\n",
       "      <td>4</td>\n",
       "      <td>5</td>\n",
       "      <td>1342996</td>\n",
       "    </tr>\n",
       "    <tr>\n",
       "      <th>53511</th>\n",
       "      <td>6</td>\n",
       "      <td>8</td>\n",
       "      <td>1</td>\n",
       "      <td>1</td>\n",
       "      <td>1</td>\n",
       "      <td>0</td>\n",
       "      <td>78512</td>\n",
       "      <td>223631</td>\n",
       "      <td>2009</td>\n",
       "      <td>10</td>\n",
       "      <td>1900</td>\n",
       "      <td>77</td>\n",
       "      <td>8</td>\n",
       "      <td>5</td>\n",
       "      <td>5</td>\n",
       "      <td>510732</td>\n",
       "    </tr>\n",
       "    <tr>\n",
       "      <th>53512</th>\n",
       "      <td>1</td>\n",
       "      <td>18</td>\n",
       "      <td>10</td>\n",
       "      <td>3</td>\n",
       "      <td>0</td>\n",
       "      <td>0</td>\n",
       "      <td>78513</td>\n",
       "      <td>25500</td>\n",
       "      <td>2015</td>\n",
       "      <td>4</td>\n",
       "      <td>1995</td>\n",
       "      <td>105</td>\n",
       "      <td>4</td>\n",
       "      <td>4</td>\n",
       "      <td>5</td>\n",
       "      <td>2008123</td>\n",
       "    </tr>\n",
       "    <tr>\n",
       "      <th>53513</th>\n",
       "      <td>7</td>\n",
       "      <td>1</td>\n",
       "      <td>6</td>\n",
       "      <td>3</td>\n",
       "      <td>1</td>\n",
       "      <td>0</td>\n",
       "      <td>78514</td>\n",
       "      <td>1195500</td>\n",
       "      <td>2011</td>\n",
       "      <td>8</td>\n",
       "      <td>11950</td>\n",
       "      <td>93</td>\n",
       "      <td>5</td>\n",
       "      <td>4</td>\n",
       "      <td>4</td>\n",
       "      <td>874352</td>\n",
       "    </tr>\n",
       "    <tr>\n",
       "      <th>53514</th>\n",
       "      <td>1</td>\n",
       "      <td>20</td>\n",
       "      <td>7</td>\n",
       "      <td>0</td>\n",
       "      <td>0</td>\n",
       "      <td>0</td>\n",
       "      <td>78515</td>\n",
       "      <td>142000</td>\n",
       "      <td>2008</td>\n",
       "      <td>11</td>\n",
       "      <td>2993</td>\n",
       "      <td>173</td>\n",
       "      <td>4</td>\n",
       "      <td>5</td>\n",
       "      <td>5</td>\n",
       "      <td>1576610</td>\n",
       "    </tr>\n",
       "  </tbody>\n",
       "</table>\n",
       "<p>53515 rows × 16 columns</p>\n",
       "</div>"
      ],
      "text/plain": [
       "       Maker  model  Location  Owner Type  transmission  fuel_type     Id  \\\n",
       "0          6      8         0           2             1          1  25001   \n",
       "1          2      9         0           3             1          1  25002   \n",
       "2          1     18         5           3             0          0  25003   \n",
       "3          5      6         9           3             1          1  25004   \n",
       "4          1     20         6           1             0          0  25005   \n",
       "...      ...    ...       ...         ...           ...        ...    ...   \n",
       "53510      6      8         4           1             1          0  78511   \n",
       "53511      6      8         1           1             1          0  78512   \n",
       "53512      1     18        10           3             0          0  78513   \n",
       "53513      7      1         6           3             1          0  78514   \n",
       "53514      1     20         7           0             0          0  78515   \n",
       "\n",
       "       Distance   manufacture_year  Age of car  engine_displacement  \\\n",
       "0          65520              1964          55                 1964   \n",
       "1          27750              2012           7                 1242   \n",
       "2          46000              2014           5                 1995   \n",
       "3          43949              2011           8                 1618   \n",
       "4          59524              2012           7                 2993   \n",
       "...          ...               ...         ...                  ...   \n",
       "53510      29334              2014           5                 1598   \n",
       "53511     223631              2009          10                 1900   \n",
       "53512      25500              2015           4                 1995   \n",
       "53513    1195500              2011           8                11950   \n",
       "53514     142000              2008          11                 2993   \n",
       "\n",
       "       engine_power  Vroom Audit Rating  door_count  seat_count    Price  \n",
       "0               147                   8           4           4   543764  \n",
       "1                51                   6           4           4   401819  \n",
       "2               105                   7           4           5  2392855  \n",
       "3               140                   7           4           5   958606  \n",
       "4               180                   7           4           5  3085561  \n",
       "...             ...                 ...         ...         ...      ...  \n",
       "53510            77                   4           4           5  1342996  \n",
       "53511            77                   8           5           5   510732  \n",
       "53512           105                   4           4           5  2008123  \n",
       "53513            93                   5           4           4   874352  \n",
       "53514           173                   4           5           5  1576610  \n",
       "\n",
       "[53515 rows x 16 columns]"
      ]
     },
     "execution_count": 297,
     "metadata": {},
     "output_type": "execute_result"
    }
   ],
   "source": [
    "df"
   ]
  },
  {
   "cell_type": "code",
   "execution_count": 299,
   "id": "4e0215af-608d-4dac-a514-c8ba1e528482",
   "metadata": {},
   "outputs": [
    {
     "data": {
      "image/png": "[encoded data removed]",
      "text/plain": [
       "<Figure size 1100x1400 with 1 Axes>"
      ]
     },
     "metadata": {},
     "output_type": "display_data"
    }
   ],
   "source": [
    "df.boxplot(fontsize=5,figsize=(11,14))\n",
    "plt.show()"
   ]
  },
  {
   "cell_type": "code",
   "execution_count": 300,
   "id": "e2f27339-bca3-41a9-b94a-8f8c88fcfda8",
   "metadata": {},
   "outputs": [],
   "source": [
    "q1=df['Distance '].quantile(0.25)\n",
    "q3=df['Distance '].quantile(0.75)\n",
    "iqr=q3-q1\n",
    "ll=q1-1.5*iqr\n",
    "ul=q3+1.5*iqr\n",
    "df_distance=df[['Distance ']][(df['Distance ']>ll)&(df['Distance ']<ul)]"
   ]
  },
  {
   "cell_type": "code",
   "execution_count": 301,
   "id": "11647a35-652b-43bb-9708-c458c27bd0da",
   "metadata": {},
   "outputs": [
    {
     "data": {
      "image/png": "[encoded data removed]",
      "text/plain": [
       "<Figure size 640x480 with 1 Axes>"
      ]
     },
     "metadata": {},
     "output_type": "display_data"
    }
   ],
   "source": [
    "df_distance.boxplot()\n",
    "plt.show()"
   ]
  },
  {
   "cell_type": "code",
   "execution_count": 302,
   "id": "6c9a1bd3-e9c3-4c33-8f32-2e4c000393b8",
   "metadata": {},
   "outputs": [],
   "source": [
    "q1=df_outlier.quantile(0.25)\n",
    "q3=df_outlier.quantile(0.75)\n",
    "iqr=q3-q1\n",
    "ll=q1-1.5*iqr\n",
    "ul=q3+1.5*iqr\n",
    "df_outlier1=df[['Distance ']][(df_distance>ll)&(df_distance<ul)]"
   ]
  },
  {
   "cell_type": "code",
   "execution_count": 305,
   "id": "7e58b488-121b-4e5b-b054-a393388f22ce",
   "metadata": {},
   "outputs": [
    {
     "data": {
      "image/png": "[encoded data removed]",
      "text/plain": [
       "<Figure size 640x480 with 1 Axes>"
      ]
     },
     "metadata": {},
     "output_type": "display_data"
    }
   ],
   "source": [
    "df_outlier1.boxplot()\n",
    "plt.show()"
   ]
  },
  {
   "cell_type": "code",
   "execution_count": 308,
   "id": "341f8abe-5104-4b7c-8e15-c2de484581ac",
   "metadata": {},
   "outputs": [],
   "source": [
    "\n",
    "q1=df['manufacture_year'].quantile(0.25)\n",
    "q3=df['manufacture_year'].quantile(0.75)\n",
    "iqr=q3-q1\n",
    "ll=q1-1.5*iqr\n",
    "ul=q3+1.5*iqr\n",
    "df_manufacture=df[['manufacture_year']][(df['manufacture_year']>ll)&(df['manufacture_year']<ul)]\n"
   ]
  },
  {
   "cell_type": "code",
   "execution_count": 309,
   "id": "f9089056-85eb-41fd-9e2f-ac739df0b1a9",
   "metadata": {},
   "outputs": [
    {
     "data": {
      "image/png": "[encoded data removed]",
      "text/plain": [
       "<Figure size 640x480 with 1 Axes>"
      ]
     },
     "metadata": {},
     "output_type": "display_data"
    }
   ],
   "source": [
    "df_manufacture.boxplot()\n",
    "plt.show()"
   ]
  },
  {
   "cell_type": "code",
   "execution_count": 311,
   "id": "58e62eee-3bdc-4709-9a88-8ccad93820ce",
   "metadata": {},
   "outputs": [],
   "source": [
    "\n",
    "q1=df['Age of car'].quantile(0.25)\n",
    "q3=df['Age of car'].quantile(0.75)\n",
    "iqr=q3-q1\n",
    "ll=q1-1.5*iqr\n",
    "ul=q3+1.5*iqr\n",
    "df_Age=df[['Age of car']][(df['Age of car']>ll)&(df['Age of car']<ul)]\n"
   ]
  },
  {
   "cell_type": "code",
   "execution_count": 313,
   "id": "a59dedd1-4e70-4d35-b182-8b12c1517839",
   "metadata": {},
   "outputs": [
    {
     "data": {
      "image/png": "[encoded data removed]",
      "text/plain": [
       "<Figure size 640x480 with 1 Axes>"
      ]
     },
     "metadata": {},
     "output_type": "display_data"
    }
   ],
   "source": [
    "df_Age.boxplot()\n",
    "plt.show()"
   ]
  },
  {
   "cell_type": "code",
   "execution_count": 314,
   "id": "8e5a103c-4dc3-4842-8a19-256c80cea7be",
   "metadata": {},
   "outputs": [],
   "source": [
    "q1=df['engine_displacement'].quantile(0.25)\n",
    "q3=df['engine_displacement'].quantile(0.75)\n",
    "iqr=q3-q1\n",
    "ll=q1-1.5*iqr\n",
    "ul=q3+1.5*iqr\n",
    "df_engine_dis=df[['engine_displacement']][(df['engine_displacement']>ll)&(df['engine_displacement']<ul)]\n"
   ]
  },
  {
   "cell_type": "code",
   "execution_count": 316,
   "id": "0749612d-89c0-41eb-a53f-7f7844d86852",
   "metadata": {},
   "outputs": [
    {
     "data": {
      "image/png": "[encoded data removed]",
      "text/plain": [
       "<Figure size 640x480 with 1 Axes>"
      ]
     },
     "metadata": {},
     "output_type": "display_data"
    }
   ],
   "source": [
    "df_engine_dis.boxplot()\n",
    "plt.show()"
   ]
  },
  {
   "cell_type": "code",
   "execution_count": 318,
   "id": "2e51c6a0-6f0f-4f49-974b-e1af222b3110",
   "metadata": {},
   "outputs": [],
   "source": [
    "q1=df['engine_power'].quantile(0.25)\n",
    "q3=df['engine_power'].quantile(0.75)\n",
    "iqr=q3-q1\n",
    "ll=q1-1.5*iqr\n",
    "ul=q3+1.5*iqr\n",
    "df_power=df[['engine_power']][(df['engine_power']>ll)&(df['engine_power']<ul)]\n"
   ]
  },
  {
   "cell_type": "code",
   "execution_count": 319,
   "id": "08312a8f-08d2-40d3-a523-8c7a30e86076",
   "metadata": {},
   "outputs": [
    {
     "data": {
      "image/png": "[encoded data removed]",
      "text/plain": [
       "<Figure size 640x480 with 1 Axes>"
      ]
     },
     "metadata": {},
     "output_type": "display_data"
    }
   ],
   "source": [
    "df_power.boxplot()\n",
    "plt.show()"
   ]
  },
  {
   "cell_type": "code",
   "execution_count": 320,
   "id": "7df4b3ac-5cb3-4f77-8525-6a29afe3992d",
   "metadata": {},
   "outputs": [],
   "source": [
    "q1=df_power.quantile(0.25)\n",
    "q3=df_power.quantile(0.75)\n",
    "iqr=q3-q1\n",
    "ll=q1-1.5*iqr\n",
    "ul=q3+1.5*iqr\n",
    "df_power_1=df[['engine_power']][(df_power>ll)&(df_power<ul)]"
   ]
  },
  {
   "cell_type": "code",
   "execution_count": 323,
   "id": "3eaa4522-6faa-46fd-b997-4c4f81184f1f",
   "metadata": {},
   "outputs": [
    {
     "data": {
      "image/png": "[encoded data removed]",
      "text/plain": [
       "<Figure size 640x480 with 1 Axes>"
      ]
     },
     "metadata": {},
     "output_type": "display_data"
    }
   ],
   "source": [
    "df_power_1.boxplot()\n",
    "plt.show()"
   ]
  },
  {
   "cell_type": "code",
   "execution_count": 324,
   "id": "fcaaaaeb-f6fd-4153-9771-b2261b298a84",
   "metadata": {},
   "outputs": [],
   "source": [
    "q1=df_power_1.quantile(0.25)\n",
    "q3=df_power_1.quantile(0.75)\n",
    "iqr=q3-q1\n",
    "LL=q1-1.5*iqr\n",
    "Ul=q3+1.5*iqr\n",
    "df_power_2=df[['engine_power']][(df_power_1>LL)&(df_power_1<Ul)]"
   ]
  },
  {
   "cell_type": "code",
   "execution_count": 325,
   "id": "6089b4e9-01e2-4423-809f-d3a445e4a306",
   "metadata": {},
   "outputs": [
    {
     "data": {
      "image/png": "[encoded data removed]",
      "text/plain": [
       "<Figure size 640x480 with 1 Axes>"
      ]
     },
     "metadata": {},
     "output_type": "display_data"
    }
   ],
   "source": [
    "df_power_2.boxplot()\n",
    "plt.show()"
   ]
  },
  {
   "cell_type": "code",
   "execution_count": 328,
   "id": "4c720c75-da0b-41d4-9eba-75a023ace90c",
   "metadata": {},
   "outputs": [],
   "source": [
    "#'door_count'\n",
    "q1=df['seat_count'].quantile(0.25)\n",
    "q3=df['seat_count'].quantile(0.75)\n",
    "iqr=q3-q1\n",
    "ll=q1-1.5*iqr\n",
    "ul=q3+1.5*iqr\n",
    "df_seat=df[['seat_count']][(df['seat_count']>ll)&(df['seat_count']<ul)]\n"
   ]
  },
  {
   "cell_type": "code",
   "execution_count": 331,
   "id": "a756a019-3ee5-47ff-8d42-c3d4a2e99143",
   "metadata": {},
   "outputs": [
    {
     "data": {
      "image/png": "[encoded data removed]",
      "text/plain": [
       "<Figure size 640x480 with 1 Axes>"
      ]
     },
     "metadata": {},
     "output_type": "display_data"
    }
   ],
   "source": [
    "df_seat.boxplot()\n",
    "plt.show()"
   ]
  },
  {
   "cell_type": "code",
   "execution_count": 332,
   "id": "7bd5f7d6-29d6-43b1-a91b-95ea16cdb074",
   "metadata": {},
   "outputs": [],
   "source": [
    "q1=df['door_count'].quantile(0.25)\n",
    "q3=df['door_count'].quantile(0.75)\n",
    "iqr=q3-q1\n",
    "LL=q1-1.5*iqr\n",
    "Ul=q3+1.5*iqr"
   ]
  },
  {
   "cell_type": "code",
   "execution_count": 335,
   "id": "79cf3542-57f9-4ad6-822a-5627dc736d4c",
   "metadata": {},
   "outputs": [],
   "source": [
    "df_door=df[['door_count']][(df['door_count']>LL)&(df['door_count']<Ul)]"
   ]
  },
  {
   "cell_type": "code",
   "execution_count": 338,
   "id": "21875170-b8f7-43b5-b605-249af39637ed",
   "metadata": {},
   "outputs": [
    {
     "data": {
      "image/png": "[encoded data removed]",
      "text/plain": [
       "<Figure size 640x480 with 1 Axes>"
      ]
     },
     "metadata": {},
     "output_type": "display_data"
    }
   ],
   "source": [
    "df_door.boxplot()\n",
    "plt.show()"
   ]
  },
  {
   "cell_type": "code",
   "execution_count": 342,
   "id": "a7a20760-e969-4165-bdf9-455c145a7e99",
   "metadata": {},
   "outputs": [],
   "source": [
    "Q1=df[['Price']].quantile(0.25)\n",
    "Q1\n",
    "Q3=df[['Price']].quantile(0.75)\n",
    "Q3\n",
    "IQR=Q3-Q1\n",
    "IQR\n",
    "LL=Q1-1.5*IQR\n",
    "UL=Q3+1.5*IQR\n",
    "df2_Price=(df[['Price']][(df[['Price']]>LL)&(df[['Price']]<UL)])"
   ]
  },
  {
   "cell_type": "code",
   "execution_count": 343,
   "id": "a4f224e9-3a82-4e34-9a95-f46ef636ebd4",
   "metadata": {},
   "outputs": [],
   "source": [
    "Q1=df2_Price.quantile(0.25)\n",
    "Q1\n",
    "Q3=df2_Price.quantile(0.75)\n",
    "Q3\n",
    "IQR=Q3-Q1\n",
    "IQR\n",
    "LL=Q1-1.5*IQR\n",
    "UL=Q3+1.5*IQR\n",
    "df2_Price1=(df[['Price']][(df2_Price>LL)&(df2_Price<UL)])"
   ]
  },
  {
   "cell_type": "code",
   "execution_count": 345,
   "id": "d57eab5e-bee1-46aa-87eb-aa76be2cf953",
   "metadata": {},
   "outputs": [],
   "source": [
    "Q1=df2_Price1.quantile(0.25)\n",
    "Q1\n",
    "Q3=df2_Price1.quantile(0.75)\n",
    "Q3\n",
    "IQR=Q3-Q1\n",
    "IQR\n",
    "LL=Q1-1.5*IQR\n",
    "UL=Q3+1.5*IQR\n",
    "df2_Price2=(df[['Price']][(df2_Price1>LL)&(df2_Price1<UL)])"
   ]
  },
  {
   "cell_type": "code",
   "execution_count": 348,
   "id": "8afec3d2-116e-4ab6-8b9d-65ef0bf5027f",
   "metadata": {},
   "outputs": [],
   "source": [
    "Q1=df2_Price2.quantile(0.25)\n",
    "Q1\n",
    "Q3=df2_Price2.quantile(0.75)\n",
    "Q3\n",
    "IQR=Q3-Q1\n",
    "IQR\n",
    "LL=Q1-1.5*IQR\n",
    "UL=Q3+1.5*IQR\n",
    "df2_Price3=(df[['Price']][(df2_Price2>LL)&(df2_Price2<UL)])"
   ]
  },
  {
   "cell_type": "code",
   "execution_count": 349,
   "id": "32f2b6b8-0d44-46ea-b9fb-6083afd5e819",
   "metadata": {},
   "outputs": [],
   "source": [
    "Q1=df2_Price3.quantile(0.25)\n",
    "Q1\n",
    "Q3=df2_Price3.quantile(0.75)\n",
    "Q3\n",
    "IQR=Q3-Q1\n",
    "IQR\n",
    "LL=Q1-1.5*IQR\n",
    "UL=Q3+1.5*IQR\n",
    "df2_Price4=(df[['Price']][(df2_Price3>LL)&(df2_Price3<UL)])"
   ]
  },
  {
   "cell_type": "code",
   "execution_count": 351,
   "id": "6c916900-1041-4e59-8178-8fba91ec9ea4",
   "metadata": {},
   "outputs": [],
   "source": [
    "Q1=df2_Price4.quantile(0.25)\n",
    "Q1\n",
    "Q3=df2_Price4.quantile(0.75)\n",
    "Q3\n",
    "IQR=Q3-Q1\n",
    "IQR\n",
    "LL=Q1-1.5*IQR\n",
    "UL=Q3+1.5*IQR\n",
    "df2_Price5=(df[['Price']][(df2_Price4>LL)&(df2_Price4<UL)])"
   ]
  },
  {
   "cell_type": "code",
   "execution_count": 352,
   "id": "9e89e30c-4ad5-4aff-918d-f84c5868d5e4",
   "metadata": {},
   "outputs": [],
   "source": [
    "Q1=df2_Price5.quantile(0.25)\n",
    "Q1\n",
    "Q3=df2_Price5.quantile(0.75)\n",
    "Q3\n",
    "IQR=Q3-Q1\n",
    "IQR\n",
    "LL=Q1-1.5*IQR\n",
    "UL=Q3+1.5*IQR\n",
    "df2_Price6=(df[['Price']][(df2_Price5>LL)&(df2_Price5<UL)])"
   ]
  },
  {
   "cell_type": "code",
   "execution_count": 355,
   "id": "b41dfc34-7d5e-492d-a9dc-545daabe2378",
   "metadata": {},
   "outputs": [],
   "source": [
    "Q1=df2_Price6.quantile(0.25)\n",
    "Q1\n",
    "Q3=df2_Price6.quantile(0.75)\n",
    "Q3\n",
    "IQR=Q3-Q1\n",
    "IQR\n",
    "LL=Q1-1.5*IQR\n",
    "UL=Q3+1.5*IQR\n",
    "df2_Price7=(df[['Price']][(df2_Price6>LL)&(df2_Price6<UL)])"
   ]
  },
  {
   "cell_type": "code",
   "execution_count": 357,
   "id": "939ef357-ea30-4998-b55c-9fdc6ab23a5b",
   "metadata": {},
   "outputs": [],
   "source": [
    "Q1=df2_Price7.quantile(0.25)\n",
    "Q1\n",
    "Q3=df2_Price7.quantile(0.75)\n",
    "Q3\n",
    "IQR=Q3-Q1\n",
    "IQR\n",
    "LL=Q1-1.5*IQR\n",
    "UL=Q3+1.5*IQR\n",
    "df2_Price8=(df[['Price']][(df2_Price7>LL)&(df2_Price7<UL)])"
   ]
  },
  {
   "cell_type": "code",
   "execution_count": 359,
   "id": "e857cb49-33ba-4e70-a28a-6c03bf4f03ed",
   "metadata": {},
   "outputs": [],
   "source": [
    "df_price=df[['Price']]"
   ]
  },
  {
   "cell_type": "code",
   "execution_count": 363,
   "id": "be73c52c-5c1c-4ba0-99d9-bb2fb9185688",
   "metadata": {},
   "outputs": [
    {
     "data": {
      "image/png": "[encoded data removed]",
      "text/plain": [
       "<Figure size 640x480 with 1 Axes>"
      ]
     },
     "metadata": {},
     "output_type": "display_data"
    }
   ],
   "source": [
    "df_price.boxplot()\n",
    "plt.show()"
   ]
  },
  {
   "cell_type": "code",
   "execution_count": 393,
   "id": "79173034-27c8-4264-84ee-bf7d6ee9b141",
   "metadata": {},
   "outputs": [],
   "source": [
    "df1=pd.concat([df_cat,df_outlier1,df_manufacture, df_Age, df_engine_dis, df_power_2, df_seat, df[['door_count']],df[['Id']],\n",
    "               df[['Vroom Audit Rating']],df_price,df2_Price8],axis=1)"
   ]
  },
  {
   "cell_type": "code",
   "execution_count": 395,
   "id": "a563955f-2153-4266-b9b4-b2fd5e7ccf07",
   "metadata": {},
   "outputs": [
    {
     "data": {
      "text/html": [
       "<div>\n",
       "<style scoped>\n",
       "    .dataframe tbody tr th:only-of-type {\n",
       "        vertical-align: middle;\n",
       "    }\n",
       "\n",
       "    .dataframe tbody tr th {\n",
       "        vertical-align: top;\n",
       "    }\n",
       "\n",
       "    .dataframe thead th {\n",
       "        text-align: right;\n",
       "    }\n",
       "</style>\n",
       "<table border=\"1\" class=\"dataframe\">\n",
       "  <thead>\n",
       "    <tr style=\"text-align: right;\">\n",
       "      <th></th>\n",
       "      <th>Maker</th>\n",
       "      <th>model</th>\n",
       "      <th>Location</th>\n",
       "      <th>Owner Type</th>\n",
       "      <th>transmission</th>\n",
       "      <th>fuel_type</th>\n",
       "      <th>Distance</th>\n",
       "      <th>manufacture_year</th>\n",
       "      <th>Age of car</th>\n",
       "      <th>engine_displacement</th>\n",
       "      <th>engine_power</th>\n",
       "      <th>seat_count</th>\n",
       "      <th>door_count</th>\n",
       "      <th>Id</th>\n",
       "      <th>Vroom Audit Rating</th>\n",
       "      <th>Price</th>\n",
       "      <th>Price</th>\n",
       "    </tr>\n",
       "  </thead>\n",
       "  <tbody>\n",
       "    <tr>\n",
       "      <th>0</th>\n",
       "      <td>6</td>\n",
       "      <td>8</td>\n",
       "      <td>0</td>\n",
       "      <td>2</td>\n",
       "      <td>1</td>\n",
       "      <td>1</td>\n",
       "      <td>65520.0</td>\n",
       "      <td>NaN</td>\n",
       "      <td>NaN</td>\n",
       "      <td>1964.0</td>\n",
       "      <td>147.0</td>\n",
       "      <td>4.0</td>\n",
       "      <td>4</td>\n",
       "      <td>25001</td>\n",
       "      <td>8</td>\n",
       "      <td>543764</td>\n",
       "      <td>543764.0</td>\n",
       "    </tr>\n",
       "    <tr>\n",
       "      <th>1</th>\n",
       "      <td>2</td>\n",
       "      <td>9</td>\n",
       "      <td>0</td>\n",
       "      <td>3</td>\n",
       "      <td>1</td>\n",
       "      <td>1</td>\n",
       "      <td>27750.0</td>\n",
       "      <td>2012.0</td>\n",
       "      <td>7.0</td>\n",
       "      <td>1242.0</td>\n",
       "      <td>51.0</td>\n",
       "      <td>4.0</td>\n",
       "      <td>4</td>\n",
       "      <td>25002</td>\n",
       "      <td>6</td>\n",
       "      <td>401819</td>\n",
       "      <td>401819.0</td>\n",
       "    </tr>\n",
       "    <tr>\n",
       "      <th>2</th>\n",
       "      <td>1</td>\n",
       "      <td>18</td>\n",
       "      <td>5</td>\n",
       "      <td>3</td>\n",
       "      <td>0</td>\n",
       "      <td>0</td>\n",
       "      <td>46000.0</td>\n",
       "      <td>2014.0</td>\n",
       "      <td>5.0</td>\n",
       "      <td>1995.0</td>\n",
       "      <td>105.0</td>\n",
       "      <td>5.0</td>\n",
       "      <td>4</td>\n",
       "      <td>25003</td>\n",
       "      <td>7</td>\n",
       "      <td>2392855</td>\n",
       "      <td>2392855.0</td>\n",
       "    </tr>\n",
       "    <tr>\n",
       "      <th>3</th>\n",
       "      <td>5</td>\n",
       "      <td>6</td>\n",
       "      <td>9</td>\n",
       "      <td>3</td>\n",
       "      <td>1</td>\n",
       "      <td>1</td>\n",
       "      <td>43949.0</td>\n",
       "      <td>2011.0</td>\n",
       "      <td>8.0</td>\n",
       "      <td>1618.0</td>\n",
       "      <td>140.0</td>\n",
       "      <td>5.0</td>\n",
       "      <td>4</td>\n",
       "      <td>25004</td>\n",
       "      <td>7</td>\n",
       "      <td>958606</td>\n",
       "      <td>958606.0</td>\n",
       "    </tr>\n",
       "    <tr>\n",
       "      <th>4</th>\n",
       "      <td>1</td>\n",
       "      <td>20</td>\n",
       "      <td>6</td>\n",
       "      <td>1</td>\n",
       "      <td>0</td>\n",
       "      <td>0</td>\n",
       "      <td>59524.0</td>\n",
       "      <td>2012.0</td>\n",
       "      <td>7.0</td>\n",
       "      <td>NaN</td>\n",
       "      <td>NaN</td>\n",
       "      <td>5.0</td>\n",
       "      <td>4</td>\n",
       "      <td>25005</td>\n",
       "      <td>7</td>\n",
       "      <td>3085561</td>\n",
       "      <td>NaN</td>\n",
       "    </tr>\n",
       "    <tr>\n",
       "      <th>...</th>\n",
       "      <td>...</td>\n",
       "      <td>...</td>\n",
       "      <td>...</td>\n",
       "      <td>...</td>\n",
       "      <td>...</td>\n",
       "      <td>...</td>\n",
       "      <td>...</td>\n",
       "      <td>...</td>\n",
       "      <td>...</td>\n",
       "      <td>...</td>\n",
       "      <td>...</td>\n",
       "      <td>...</td>\n",
       "      <td>...</td>\n",
       "      <td>...</td>\n",
       "      <td>...</td>\n",
       "      <td>...</td>\n",
       "      <td>...</td>\n",
       "    </tr>\n",
       "    <tr>\n",
       "      <th>53510</th>\n",
       "      <td>6</td>\n",
       "      <td>8</td>\n",
       "      <td>4</td>\n",
       "      <td>1</td>\n",
       "      <td>1</td>\n",
       "      <td>0</td>\n",
       "      <td>29334.0</td>\n",
       "      <td>2014.0</td>\n",
       "      <td>5.0</td>\n",
       "      <td>1598.0</td>\n",
       "      <td>77.0</td>\n",
       "      <td>5.0</td>\n",
       "      <td>4</td>\n",
       "      <td>78511</td>\n",
       "      <td>4</td>\n",
       "      <td>1342996</td>\n",
       "      <td>1342996.0</td>\n",
       "    </tr>\n",
       "    <tr>\n",
       "      <th>53511</th>\n",
       "      <td>6</td>\n",
       "      <td>8</td>\n",
       "      <td>1</td>\n",
       "      <td>1</td>\n",
       "      <td>1</td>\n",
       "      <td>0</td>\n",
       "      <td>223631.0</td>\n",
       "      <td>2009.0</td>\n",
       "      <td>10.0</td>\n",
       "      <td>1900.0</td>\n",
       "      <td>77.0</td>\n",
       "      <td>5.0</td>\n",
       "      <td>5</td>\n",
       "      <td>78512</td>\n",
       "      <td>8</td>\n",
       "      <td>510732</td>\n",
       "      <td>510732.0</td>\n",
       "    </tr>\n",
       "    <tr>\n",
       "      <th>53512</th>\n",
       "      <td>1</td>\n",
       "      <td>18</td>\n",
       "      <td>10</td>\n",
       "      <td>3</td>\n",
       "      <td>0</td>\n",
       "      <td>0</td>\n",
       "      <td>25500.0</td>\n",
       "      <td>2015.0</td>\n",
       "      <td>4.0</td>\n",
       "      <td>1995.0</td>\n",
       "      <td>105.0</td>\n",
       "      <td>5.0</td>\n",
       "      <td>4</td>\n",
       "      <td>78513</td>\n",
       "      <td>4</td>\n",
       "      <td>2008123</td>\n",
       "      <td>2008123.0</td>\n",
       "    </tr>\n",
       "    <tr>\n",
       "      <th>53513</th>\n",
       "      <td>7</td>\n",
       "      <td>1</td>\n",
       "      <td>6</td>\n",
       "      <td>3</td>\n",
       "      <td>1</td>\n",
       "      <td>0</td>\n",
       "      <td>NaN</td>\n",
       "      <td>2011.0</td>\n",
       "      <td>8.0</td>\n",
       "      <td>NaN</td>\n",
       "      <td>93.0</td>\n",
       "      <td>4.0</td>\n",
       "      <td>4</td>\n",
       "      <td>78514</td>\n",
       "      <td>5</td>\n",
       "      <td>874352</td>\n",
       "      <td>874352.0</td>\n",
       "    </tr>\n",
       "    <tr>\n",
       "      <th>53514</th>\n",
       "      <td>1</td>\n",
       "      <td>20</td>\n",
       "      <td>7</td>\n",
       "      <td>0</td>\n",
       "      <td>0</td>\n",
       "      <td>0</td>\n",
       "      <td>142000.0</td>\n",
       "      <td>2008.0</td>\n",
       "      <td>11.0</td>\n",
       "      <td>NaN</td>\n",
       "      <td>NaN</td>\n",
       "      <td>5.0</td>\n",
       "      <td>5</td>\n",
       "      <td>78515</td>\n",
       "      <td>4</td>\n",
       "      <td>1576610</td>\n",
       "      <td>1576610.0</td>\n",
       "    </tr>\n",
       "  </tbody>\n",
       "</table>\n",
       "<p>53515 rows × 17 columns</p>\n",
       "</div>"
      ],
      "text/plain": [
       "       Maker  model  Location  Owner Type  transmission  fuel_type  Distance   \\\n",
       "0          6      8         0           2             1          1    65520.0   \n",
       "1          2      9         0           3             1          1    27750.0   \n",
       "2          1     18         5           3             0          0    46000.0   \n",
       "3          5      6         9           3             1          1    43949.0   \n",
       "4          1     20         6           1             0          0    59524.0   \n",
       "...      ...    ...       ...         ...           ...        ...        ...   \n",
       "53510      6      8         4           1             1          0    29334.0   \n",
       "53511      6      8         1           1             1          0   223631.0   \n",
       "53512      1     18        10           3             0          0    25500.0   \n",
       "53513      7      1         6           3             1          0        NaN   \n",
       "53514      1     20         7           0             0          0   142000.0   \n",
       "\n",
       "       manufacture_year  Age of car  engine_displacement  engine_power  \\\n",
       "0                   NaN         NaN               1964.0         147.0   \n",
       "1                2012.0         7.0               1242.0          51.0   \n",
       "2                2014.0         5.0               1995.0         105.0   \n",
       "3                2011.0         8.0               1618.0         140.0   \n",
       "4                2012.0         7.0                  NaN           NaN   \n",
       "...                 ...         ...                  ...           ...   \n",
       "53510            2014.0         5.0               1598.0          77.0   \n",
       "53511            2009.0        10.0               1900.0          77.0   \n",
       "53512            2015.0         4.0               1995.0         105.0   \n",
       "53513            2011.0         8.0                  NaN          93.0   \n",
       "53514            2008.0        11.0                  NaN           NaN   \n",
       "\n",
       "       seat_count  door_count     Id  Vroom Audit Rating    Price      Price  \n",
       "0             4.0           4  25001                   8   543764   543764.0  \n",
       "1             4.0           4  25002                   6   401819   401819.0  \n",
       "2             5.0           4  25003                   7  2392855  2392855.0  \n",
       "3             5.0           4  25004                   7   958606   958606.0  \n",
       "4             5.0           4  25005                   7  3085561        NaN  \n",
       "...           ...         ...    ...                 ...      ...        ...  \n",
       "53510         5.0           4  78511                   4  1342996  1342996.0  \n",
       "53511         5.0           5  78512                   8   510732   510732.0  \n",
       "53512         5.0           4  78513                   4  2008123  2008123.0  \n",
       "53513         4.0           4  78514                   5   874352   874352.0  \n",
       "53514         5.0           5  78515                   4  1576610  1576610.0  \n",
       "\n",
       "[53515 rows x 17 columns]"
      ]
     },
     "execution_count": 395,
     "metadata": {},
     "output_type": "execute_result"
    }
   ],
   "source": [
    "df1"
   ]
  },
  {
   "cell_type": "code",
   "execution_count": 397,
   "id": "04aa112e-0409-498f-b79a-2f4736e7f274",
   "metadata": {},
   "outputs": [
    {
     "data": {
      "text/plain": [
       "Maker                     0\n",
       "model                     0\n",
       "Location                  0\n",
       "Owner Type                0\n",
       "transmission              0\n",
       "fuel_type                 0\n",
       "Distance                660\n",
       "manufacture_year       1325\n",
       "Age of car             1325\n",
       "engine_displacement    5651\n",
       "engine_power           5223\n",
       "seat_count             1581\n",
       "door_count                0\n",
       "Id                        0\n",
       "Vroom Audit Rating        0\n",
       "Price                     0\n",
       "Price                  2961\n",
       "dtype: int64"
      ]
     },
     "execution_count": 397,
     "metadata": {},
     "output_type": "execute_result"
    }
   ],
   "source": [
    "df1.isnull().sum()"
   ]
  },
  {
   "cell_type": "code",
   "execution_count": 399,
   "id": "aee3a1d3-81a5-4694-b24c-fdca82d06465",
   "metadata": {},
   "outputs": [
    {
     "data": {
      "text/plain": [
       "Maker                    int32\n",
       "model                    int32\n",
       "Location                 int32\n",
       "Owner Type               int32\n",
       "transmission             int32\n",
       "fuel_type                int32\n",
       "Distance               float64\n",
       "manufacture_year       float64\n",
       "Age of car             float64\n",
       "engine_displacement    float64\n",
       "engine_power           float64\n",
       "seat_count             float64\n",
       "door_count               int32\n",
       "Id                       int32\n",
       "Vroom Audit Rating       int32\n",
       "Price                    int32\n",
       "Price                  float64\n",
       "dtype: object"
      ]
     },
     "execution_count": 399,
     "metadata": {},
     "output_type": "execute_result"
    }
   ],
   "source": [
    "df1.dtypes"
   ]
  },
  {
   "cell_type": "code",
   "execution_count": 405,
   "id": "6240bf18-db24-4f72-9f7f-5b10960e0f31",
   "metadata": {},
   "outputs": [],
   "source": [
    "df1.dropna(subset=['Distance ','manufacture_year', 'Age of car',\n",
    "       'engine_displacement', 'engine_power','Price','seat_count'],inplace=True)"
   ]
  },
  {
   "cell_type": "code",
   "execution_count": 407,
   "id": "4d4b531a-77ff-46b6-9de7-67ab6608bb40",
   "metadata": {},
   "outputs": [
    {
     "data": {
      "text/plain": [
       "Maker                  0\n",
       "model                  0\n",
       "Location               0\n",
       "Owner Type             0\n",
       "transmission           0\n",
       "fuel_type              0\n",
       "Distance               0\n",
       "manufacture_year       0\n",
       "Age of car             0\n",
       "engine_displacement    0\n",
       "engine_power           0\n",
       "seat_count             0\n",
       "door_count             0\n",
       "Id                     0\n",
       "Vroom Audit Rating     0\n",
       "Price                  0\n",
       "Price                  0\n",
       "dtype: int64"
      ]
     },
     "execution_count": 407,
     "metadata": {},
     "output_type": "execute_result"
    }
   ],
   "source": [
    "df1.isnull().sum()"
   ]
  },
  {
   "cell_type": "code",
   "execution_count": 377,
   "id": "ffb159c4-7ecd-4c0b-a171-4ea96b2424bb",
   "metadata": {},
   "outputs": [],
   "source": [
    "df1=df1.astype(int)"
   ]
  },
  {
   "cell_type": "code",
   "execution_count": 409,
   "id": "877498d4-e98f-4d18-80ee-38dd714ad399",
   "metadata": {},
   "outputs": [],
   "source": [
    "df3_price=df1[['Price']]"
   ]
  },
  {
   "cell_type": "code",
   "execution_count": 411,
   "id": "feb6eb73-7f38-45bb-be47-a010425b55f2",
   "metadata": {},
   "outputs": [],
   "source": [
    "df1.drop(columns='Price',inplace=True)"
   ]
  },
  {
   "cell_type": "code",
   "execution_count": 413,
   "id": "051099a6-1461-4bfb-8bee-7694595d02c3",
   "metadata": {},
   "outputs": [
    {
     "data": {
      "text/plain": [
       "Index(['Maker', 'model', 'Location', 'Owner Type', 'transmission', 'fuel_type',\n",
       "       'Id', 'Distance ', 'manufacture_year', 'Age of car',\n",
       "       'engine_displacement', 'engine_power', 'Vroom Audit Rating',\n",
       "       'door_count', 'seat_count', 'Price'],\n",
       "      dtype='object')"
      ]
     },
     "execution_count": 413,
     "metadata": {},
     "output_type": "execute_result"
    }
   ],
   "source": [
    "df.columns"
   ]
  },
  {
   "cell_type": "code",
   "execution_count": 415,
   "id": "e6434e4d-b81f-436e-a1ab-da891236d3bb",
   "metadata": {},
   "outputs": [],
   "source": [
    "df2=pd.concat([df1,df3_price],axis=1)"
   ]
  },
  {
   "cell_type": "code",
   "execution_count": 417,
   "id": "d65e9fc0-64be-4f1c-b5b1-8c3174bc2445",
   "metadata": {},
   "outputs": [],
   "source": [
    "from sklearn.preprocessing import StandardScaler\n",
    "ss=StandardScaler()\n",
    "df_stand=pd.DataFrame(ss.fit_transform(df2),columns=df2.columns)"
   ]
  },
  {
   "cell_type": "code",
   "execution_count": 419,
   "id": "24ad2901-6e95-469f-9077-7f4befa72614",
   "metadata": {},
   "outputs": [
    {
     "data": {
      "text/plain": [
       "Maker                  0\n",
       "model                  0\n",
       "Location               0\n",
       "Owner Type             0\n",
       "transmission           0\n",
       "fuel_type              0\n",
       "Distance               0\n",
       "manufacture_year       0\n",
       "Age of car             0\n",
       "engine_displacement    0\n",
       "engine_power           0\n",
       "seat_count             0\n",
       "door_count             0\n",
       "Id                     0\n",
       "Vroom Audit Rating     0\n",
       "Price                  0\n",
       "Price                  0\n",
       "dtype: int64"
      ]
     },
     "execution_count": 419,
     "metadata": {},
     "output_type": "execute_result"
    }
   ],
   "source": [
    "df_stand.isnull().sum()"
   ]
  },
  {
   "cell_type": "code",
   "execution_count": 421,
   "id": "7371a1a8-553b-401a-9f0a-51000d89fa94",
   "metadata": {},
   "outputs": [
    {
     "data": {
      "text/plain": [
       "Maker                  0\n",
       "model                  0\n",
       "Location               0\n",
       "Owner Type             0\n",
       "transmission           0\n",
       "fuel_type              0\n",
       "Id                     0\n",
       "Distance               0\n",
       "manufacture_year       0\n",
       "Age of car             0\n",
       "engine_displacement    0\n",
       "engine_power           0\n",
       "Vroom Audit Rating     0\n",
       "door_count             0\n",
       "seat_count             0\n",
       "Price                  0\n",
       "dtype: int64"
      ]
     },
     "execution_count": 421,
     "metadata": {},
     "output_type": "execute_result"
    }
   ],
   "source": [
    "df.isnull().sum()"
   ]
  },
  {
   "cell_type": "code",
   "execution_count": 423,
   "id": "f40fd0d6-99ee-4886-b0da-09ddb87802c8",
   "metadata": {},
   "outputs": [
    {
     "data": {
      "image/png": "[encoded data removed]",
      "text/plain": [
       "<Figure size 1100x1300 with 1 Axes>"
      ]
     },
     "metadata": {},
     "output_type": "display_data"
    }
   ],
   "source": [
    "df_stand.boxplot(fontsize=5,figsize=(11,13))\n",
    "plt.show()"
   ]
  },
  {
   "cell_type": "code",
   "execution_count": 425,
   "id": "e2c31923-de70-423f-8d75-8a8417edbe80",
   "metadata": {},
   "outputs": [],
   "source": [
    "X=df_stand[['Maker', 'model', 'Location', 'Owner Type', 'transmission', 'fuel_type','Id', 'Distance ', 'manufacture_year', 'Age of car','engine_displacement', 'engine_power', 'Vroom Audit Rating','door_count', 'seat_count']]\n",
    "y=df_stand['Price']"
   ]
  },
  {
   "cell_type": "code",
   "execution_count": 427,
   "id": "112d9a00-7f61-430f-a113-d3ad74c64f09",
   "metadata": {},
   "outputs": [],
   "source": [
    "from sklearn.linear_model import LinearRegression\n",
    "model=LinearRegression()"
   ]
  },
  {
   "cell_type": "code",
   "execution_count": 429,
   "id": "b680828e-1ed9-4800-8e02-7f19974b9837",
   "metadata": {},
   "outputs": [
    {
     "data": {
      "text/html": [
       "<style>#sk-container-id-1 {\n",
       "  /* Definition of color scheme common for light and dark mode */\n",
       "  --sklearn-color-text: black;\n",
       "  --sklearn-color-line: gray;\n",
       "  /* Definition of color scheme for unfitted estimators */\n",
       "  --sklearn-color-unfitted-level-0: #fff5e6;\n",
       "  --sklearn-color-unfitted-level-1: #f6e4d2;\n",
       "  --sklearn-color-unfitted-level-2: #ffe0b3;\n",
       "  --sklearn-color-unfitted-level-3: chocolate;\n",
       "  /* Definition of color scheme for fitted estimators */\n",
       "  --sklearn-color-fitted-level-0: #f0f8ff;\n",
       "  --sklearn-color-fitted-level-1: #d4ebff;\n",
       "  --sklearn-color-fitted-level-2: #b3dbfd;\n",
       "  --sklearn-color-fitted-level-3: cornflowerblue;\n",
       "\n",
       "  /* Specific color for light theme */\n",
       "  --sklearn-color-text-on-default-background: var(--sg-text-color, var(--theme-code-foreground, var(--jp-content-font-color1, black)));\n",
       "  --sklearn-color-background: var(--sg-background-color, var(--theme-background, var(--jp-layout-color0, white)));\n",
       "  --sklearn-color-border-box: var(--sg-text-color, var(--theme-code-foreground, var(--jp-content-font-color1, black)));\n",
       "  --sklearn-color-icon: #696969;\n",
       "\n",
       "  @media (prefers-color-scheme: dark) {\n",
       "    /* Redefinition of color scheme for dark theme */\n",
       "    --sklearn-color-text-on-default-background: var(--sg-text-color, var(--theme-code-foreground, var(--jp-content-font-color1, white)));\n",
       "    --sklearn-color-background: var(--sg-background-color, var(--theme-background, var(--jp-layout-color0, #111)));\n",
       "    --sklearn-color-border-box: var(--sg-text-color, var(--theme-code-foreground, var(--jp-content-font-color1, white)));\n",
       "    --sklearn-color-icon: #878787;\n",
       "  }\n",
       "}\n",
       "\n",
       "#sk-container-id-1 {\n",
       "  color: var(--sklearn-color-text);\n",
       "}\n",
       "\n",
       "#sk-container-id-1 pre {\n",
       "  padding: 0;\n",
       "}\n",
       "\n",
       "#sk-container-id-1 input.sk-hidden--visually {\n",
       "  border: 0;\n",
       "  clip: rect(1px 1px 1px 1px);\n",
       "  clip: rect(1px, 1px, 1px, 1px);\n",
       "  height: 1px;\n",
       "  margin: -1px;\n",
       "  overflow: hidden;\n",
       "  padding: 0;\n",
       "  position: absolute;\n",
       "  width: 1px;\n",
       "}\n",
       "\n",
       "#sk-container-id-1 div.sk-dashed-wrapped {\n",
       "  border: 1px dashed var(--sklearn-color-line);\n",
       "  margin: 0 0.4em 0.5em 0.4em;\n",
       "  box-sizing: border-box;\n",
       "  padding-bottom: 0.4em;\n",
       "  background-color: var(--sklearn-color-background);\n",
       "}\n",
       "\n",
       "#sk-container-id-1 div.sk-container {\n",
       "  /* jupyter's `normalize.less` sets `[hidden] { display: none; }`\n",
       "     but bootstrap.min.css set `[hidden] { display: none !important; }`\n",
       "     so we also need the `!important` here to be able to override the\n",
       "     default hidden behavior on the sphinx rendered scikit-learn.org.\n",
       "     See: https://github.com/scikit-learn/scikit-learn/issues/21755 */\n",
       "  display: inline-block !important;\n",
       "  position: relative;\n",
       "}\n",
       "\n",
       "#sk-container-id-1 div.sk-text-repr-fallback {\n",
       "  display: none;\n",
       "}\n",
       "\n",
       "div.sk-parallel-item,\n",
       "div.sk-serial,\n",
       "div.sk-item {\n",
       "  /* draw centered vertical line to link estimators */\n",
       "  background-image: linear-gradient(var(--sklearn-color-text-on-default-background), var(--sklearn-color-text-on-default-background));\n",
       "  background-size: 2px 100%;\n",
       "  background-repeat: no-repeat;\n",
       "  background-position: center center;\n",
       "}\n",
       "\n",
       "/* Parallel-specific style estimator block */\n",
       "\n",
       "#sk-container-id-1 div.sk-parallel-item::after {\n",
       "  content: \"\";\n",
       "  width: 100%;\n",
       "  border-bottom: 2px solid var(--sklearn-color-text-on-default-background);\n",
       "  flex-grow: 1;\n",
       "}\n",
       "\n",
       "#sk-container-id-1 div.sk-parallel {\n",
       "  display: flex;\n",
       "  align-items: stretch;\n",
       "  justify-content: center;\n",
       "  background-color: var(--sklearn-color-background);\n",
       "  position: relative;\n",
       "}\n",
       "\n",
       "#sk-container-id-1 div.sk-parallel-item {\n",
       "  display: flex;\n",
       "  flex-direction: column;\n",
       "}\n",
       "\n",
       "#sk-container-id-1 div.sk-parallel-item:first-child::after {\n",
       "  align-self: flex-end;\n",
       "  width: 50%;\n",
       "}\n",
       "\n",
       "#sk-container-id-1 div.sk-parallel-item:last-child::after {\n",
       "  align-self: flex-start;\n",
       "  width: 50%;\n",
       "}\n",
       "\n",
       "#sk-container-id-1 div.sk-parallel-item:only-child::after {\n",
       "  width: 0;\n",
       "}\n",
       "\n",
       "/* Serial-specific style estimator block */\n",
       "\n",
       "#sk-container-id-1 div.sk-serial {\n",
       "  display: flex;\n",
       "  flex-direction: column;\n",
       "  align-items: center;\n",
       "  background-color: var(--sklearn-color-background);\n",
       "  padding-right: 1em;\n",
       "  padding-left: 1em;\n",
       "}\n",
       "\n",
       "\n",
       "/* Toggleable style: style used for estimator/Pipeline/ColumnTransformer box that is\n",
       "clickable and can be expanded/collapsed.\n",
       "- Pipeline and ColumnTransformer use this feature and define the default style\n",
       "- Estimators will overwrite some part of the style using the `sk-estimator` class\n",
       "*/\n",
       "\n",
       "/* Pipeline and ColumnTransformer style (default) */\n",
       "\n",
       "#sk-container-id-1 div.sk-toggleable {\n",
       "  /* Default theme specific background. It is overwritten whether we have a\n",
       "  specific estimator or a Pipeline/ColumnTransformer */\n",
       "  background-color: var(--sklearn-color-background);\n",
       "}\n",
       "\n",
       "/* Toggleable label */\n",
       "#sk-container-id-1 label.sk-toggleable__label {\n",
       "  cursor: pointer;\n",
       "  display: block;\n",
       "  width: 100%;\n",
       "  margin-bottom: 0;\n",
       "  padding: 0.5em;\n",
       "  box-sizing: border-box;\n",
       "  text-align: center;\n",
       "}\n",
       "\n",
       "#sk-container-id-1 label.sk-toggleable__label-arrow:before {\n",
       "  /* Arrow on the left of the label */\n",
       "  content: \"▸\";\n",
       "  float: left;\n",
       "  margin-right: 0.25em;\n",
       "  color: var(--sklearn-color-icon);\n",
       "}\n",
       "\n",
       "#sk-container-id-1 label.sk-toggleable__label-arrow:hover:before {\n",
       "  color: var(--sklearn-color-text);\n",
       "}\n",
       "\n",
       "/* Toggleable content - dropdown */\n",
       "\n",
       "#sk-container-id-1 div.sk-toggleable__content {\n",
       "  max-height: 0;\n",
       "  max-width: 0;\n",
       "  overflow: hidden;\n",
       "  text-align: left;\n",
       "  /* unfitted */\n",
       "  background-color: var(--sklearn-color-unfitted-level-0);\n",
       "}\n",
       "\n",
       "#sk-container-id-1 div.sk-toggleable__content.fitted {\n",
       "  /* fitted */\n",
       "  background-color: var(--sklearn-color-fitted-level-0);\n",
       "}\n",
       "\n",
       "#sk-container-id-1 div.sk-toggleable__content pre {\n",
       "  margin: 0.2em;\n",
       "  border-radius: 0.25em;\n",
       "  color: var(--sklearn-color-text);\n",
       "  /* unfitted */\n",
       "  background-color: var(--sklearn-color-unfitted-level-0);\n",
       "}\n",
       "\n",
       "#sk-container-id-1 div.sk-toggleable__content.fitted pre {\n",
       "  /* unfitted */\n",
       "  background-color: var(--sklearn-color-fitted-level-0);\n",
       "}\n",
       "\n",
       "#sk-container-id-1 input.sk-toggleable__control:checked~div.sk-toggleable__content {\n",
       "  /* Expand drop-down */\n",
       "  max-height: 200px;\n",
       "  max-width: 100%;\n",
       "  overflow: auto;\n",
       "}\n",
       "\n",
       "#sk-container-id-1 input.sk-toggleable__control:checked~label.sk-toggleable__label-arrow:before {\n",
       "  content: \"▾\";\n",
       "}\n",
       "\n",
       "/* Pipeline/ColumnTransformer-specific style */\n",
       "\n",
       "#sk-container-id-1 div.sk-label input.sk-toggleable__control:checked~label.sk-toggleable__label {\n",
       "  color: var(--sklearn-color-text);\n",
       "  background-color: var(--sklearn-color-unfitted-level-2);\n",
       "}\n",
       "\n",
       "#sk-container-id-1 div.sk-label.fitted input.sk-toggleable__control:checked~label.sk-toggleable__label {\n",
       "  background-color: var(--sklearn-color-fitted-level-2);\n",
       "}\n",
       "\n",
       "/* Estimator-specific style */\n",
       "\n",
       "/* Colorize estimator box */\n",
       "#sk-container-id-1 div.sk-estimator input.sk-toggleable__control:checked~label.sk-toggleable__label {\n",
       "  /* unfitted */\n",
       "  background-color: var(--sklearn-color-unfitted-level-2);\n",
       "}\n",
       "\n",
       "#sk-container-id-1 div.sk-estimator.fitted input.sk-toggleable__control:checked~label.sk-toggleable__label {\n",
       "  /* fitted */\n",
       "  background-color: var(--sklearn-color-fitted-level-2);\n",
       "}\n",
       "\n",
       "#sk-container-id-1 div.sk-label label.sk-toggleable__label,\n",
       "#sk-container-id-1 div.sk-label label {\n",
       "  /* The background is the default theme color */\n",
       "  color: var(--sklearn-color-text-on-default-background);\n",
       "}\n",
       "\n",
       "/* On hover, darken the color of the background */\n",
       "#sk-container-id-1 div.sk-label:hover label.sk-toggleable__label {\n",
       "  color: var(--sklearn-color-text);\n",
       "  background-color: var(--sklearn-color-unfitted-level-2);\n",
       "}\n",
       "\n",
       "/* Label box, darken color on hover, fitted */\n",
       "#sk-container-id-1 div.sk-label.fitted:hover label.sk-toggleable__label.fitted {\n",
       "  color: var(--sklearn-color-text);\n",
       "  background-color: var(--sklearn-color-fitted-level-2);\n",
       "}\n",
       "\n",
       "/* Estimator label */\n",
       "\n",
       "#sk-container-id-1 div.sk-label label {\n",
       "  font-family: monospace;\n",
       "  font-weight: bold;\n",
       "  display: inline-block;\n",
       "  line-height: 1.2em;\n",
       "}\n",
       "\n",
       "#sk-container-id-1 div.sk-label-container {\n",
       "  text-align: center;\n",
       "}\n",
       "\n",
       "/* Estimator-specific */\n",
       "#sk-container-id-1 div.sk-estimator {\n",
       "  font-family: monospace;\n",
       "  border: 1px dotted var(--sklearn-color-border-box);\n",
       "  border-radius: 0.25em;\n",
       "  box-sizing: border-box;\n",
       "  margin-bottom: 0.5em;\n",
       "  /* unfitted */\n",
       "  background-color: var(--sklearn-color-unfitted-level-0);\n",
       "}\n",
       "\n",
       "#sk-container-id-1 div.sk-estimator.fitted {\n",
       "  /* fitted */\n",
       "  background-color: var(--sklearn-color-fitted-level-0);\n",
       "}\n",
       "\n",
       "/* on hover */\n",
       "#sk-container-id-1 div.sk-estimator:hover {\n",
       "  /* unfitted */\n",
       "  background-color: var(--sklearn-color-unfitted-level-2);\n",
       "}\n",
       "\n",
       "#sk-container-id-1 div.sk-estimator.fitted:hover {\n",
       "  /* fitted */\n",
       "  background-color: var(--sklearn-color-fitted-level-2);\n",
       "}\n",
       "\n",
       "/* Specification for estimator info (e.g. \"i\" and \"?\") */\n",
       "\n",
       "/* Common style for \"i\" and \"?\" */\n",
       "\n",
       ".sk-estimator-doc-link,\n",
       "a:link.sk-estimator-doc-link,\n",
       "a:visited.sk-estimator-doc-link {\n",
       "  float: right;\n",
       "  font-size: smaller;\n",
       "  line-height: 1em;\n",
       "  font-family: monospace;\n",
       "  background-color: var(--sklearn-color-background);\n",
       "  border-radius: 1em;\n",
       "  height: 1em;\n",
       "  width: 1em;\n",
       "  text-decoration: none !important;\n",
       "  margin-left: 1ex;\n",
       "  /* unfitted */\n",
       "  border: var(--sklearn-color-unfitted-level-1) 1pt solid;\n",
       "  color: var(--sklearn-color-unfitted-level-1);\n",
       "}\n",
       "\n",
       ".sk-estimator-doc-link.fitted,\n",
       "a:link.sk-estimator-doc-link.fitted,\n",
       "a:visited.sk-estimator-doc-link.fitted {\n",
       "  /* fitted */\n",
       "  border: var(--sklearn-color-fitted-level-1) 1pt solid;\n",
       "  color: var(--sklearn-color-fitted-level-1);\n",
       "}\n",
       "\n",
       "/* On hover */\n",
       "div.sk-estimator:hover .sk-estimator-doc-link:hover,\n",
       ".sk-estimator-doc-link:hover,\n",
       "div.sk-label-container:hover .sk-estimator-doc-link:hover,\n",
       ".sk-estimator-doc-link:hover {\n",
       "  /* unfitted */\n",
       "  background-color: var(--sklearn-color-unfitted-level-3);\n",
       "  color: var(--sklearn-color-background);\n",
       "  text-decoration: none;\n",
       "}\n",
       "\n",
       "div.sk-estimator.fitted:hover .sk-estimator-doc-link.fitted:hover,\n",
       ".sk-estimator-doc-link.fitted:hover,\n",
       "div.sk-label-container:hover .sk-estimator-doc-link.fitted:hover,\n",
       ".sk-estimator-doc-link.fitted:hover {\n",
       "  /* fitted */\n",
       "  background-color: var(--sklearn-color-fitted-level-3);\n",
       "  color: var(--sklearn-color-background);\n",
       "  text-decoration: none;\n",
       "}\n",
       "\n",
       "/* Span, style for the box shown on hovering the info icon */\n",
       ".sk-estimator-doc-link span {\n",
       "  display: none;\n",
       "  z-index: 9999;\n",
       "  position: relative;\n",
       "  font-weight: normal;\n",
       "  right: .2ex;\n",
       "  padding: .5ex;\n",
       "  margin: .5ex;\n",
       "  width: min-content;\n",
       "  min-width: 20ex;\n",
       "  max-width: 50ex;\n",
       "  color: var(--sklearn-color-text);\n",
       "  box-shadow: 2pt 2pt 4pt #999;\n",
       "  /* unfitted */\n",
       "  background: var(--sklearn-color-unfitted-level-0);\n",
       "  border: .5pt solid var(--sklearn-color-unfitted-level-3);\n",
       "}\n",
       "\n",
       ".sk-estimator-doc-link.fitted span {\n",
       "  /* fitted */\n",
       "  background: var(--sklearn-color-fitted-level-0);\n",
       "  border: var(--sklearn-color-fitted-level-3);\n",
       "}\n",
       "\n",
       ".sk-estimator-doc-link:hover span {\n",
       "  display: block;\n",
       "}\n",
       "\n",
       "/* \"?\"-specific style due to the `<a>` HTML tag */\n",
       "\n",
       "#sk-container-id-1 a.estimator_doc_link {\n",
       "  float: right;\n",
       "  font-size: 1rem;\n",
       "  line-height: 1em;\n",
       "  font-family: monospace;\n",
       "  background-color: var(--sklearn-color-background);\n",
       "  border-radius: 1rem;\n",
       "  height: 1rem;\n",
       "  width: 1rem;\n",
       "  text-decoration: none;\n",
       "  /* unfitted */\n",
       "  color: var(--sklearn-color-unfitted-level-1);\n",
       "  border: var(--sklearn-color-unfitted-level-1) 1pt solid;\n",
       "}\n",
       "\n",
       "#sk-container-id-1 a.estimator_doc_link.fitted {\n",
       "  /* fitted */\n",
       "  border: var(--sklearn-color-fitted-level-1) 1pt solid;\n",
       "  color: var(--sklearn-color-fitted-level-1);\n",
       "}\n",
       "\n",
       "/* On hover */\n",
       "#sk-container-id-1 a.estimator_doc_link:hover {\n",
       "  /* unfitted */\n",
       "  background-color: var(--sklearn-color-unfitted-level-3);\n",
       "  color: var(--sklearn-color-background);\n",
       "  text-decoration: none;\n",
       "}\n",
       "\n",
       "#sk-container-id-1 a.estimator_doc_link.fitted:hover {\n",
       "  /* fitted */\n",
       "  background-color: var(--sklearn-color-fitted-level-3);\n",
       "}\n",
       "</style><div id=\"sk-container-id-1\" class=\"sk-top-container\"><div class=\"sk-text-repr-fallback\"><pre>LinearRegression()</pre><b>In a Jupyter environment, please rerun this cell to show the HTML representation or trust the notebook. <br />On GitHub, the HTML representation is unable to render, please try loading this page with nbviewer.org.</b></div><div class=\"sk-container\" hidden><div class=\"sk-item\"><div class=\"sk-estimator fitted sk-toggleable\"><input class=\"sk-toggleable__control sk-hidden--visually\" id=\"sk-estimator-id-1\" type=\"checkbox\" checked><label for=\"sk-estimator-id-1\" class=\"sk-toggleable__label fitted sk-toggleable__label-arrow fitted\">&nbsp;&nbsp;LinearRegression<a class=\"sk-estimator-doc-link fitted\" rel=\"noreferrer\" target=\"_blank\" href=\"https://scikit-learn.org/1.4/modules/generated/sklearn.linear_model.LinearRegression.html\">?<span>Documentation for LinearRegression</span></a><span class=\"sk-estimator-doc-link fitted\">i<span>Fitted</span></span></label><div class=\"sk-toggleable__content fitted\"><pre>LinearRegression()</pre></div> </div></div></div></div>"
      ],
      "text/plain": [
       "LinearRegression()"
      ]
     },
     "execution_count": 429,
     "metadata": {},
     "output_type": "execute_result"
    }
   ],
   "source": [
    "model.fit(X,y)"
   ]
  },
  {
   "cell_type": "code",
   "execution_count": 431,
   "id": "aa74c0f0-256e-477e-a985-a1fe475a7a25",
   "metadata": {},
   "outputs": [],
   "source": [
    "y_predicted=pd.DataFrame(model.predict(X))"
   ]
  },
  {
   "cell_type": "code",
   "execution_count": 433,
   "id": "996e9057-5886-4e70-b65f-47a0f3cf06af",
   "metadata": {},
   "outputs": [
    {
     "data": {
      "text/plain": [
       "0.8280576611159285"
      ]
     },
     "execution_count": 433,
     "metadata": {},
     "output_type": "execute_result"
    }
   ],
   "source": [
    "model.score(X,y)"
   ]
  },
  {
   "cell_type": "code",
   "execution_count": 435,
   "id": "2ca099cd-4d76-42d9-853e-af2f82419dd1",
   "metadata": {},
   "outputs": [
    {
     "data": {
      "text/plain": [
       "0.1719423388840715"
      ]
     },
     "execution_count": 435,
     "metadata": {},
     "output_type": "execute_result"
    }
   ],
   "source": [
    "from sklearn.metrics import mean_squared_error\n",
    "mean_squared_error(y,y_predicted)"
   ]
  },
  {
   "cell_type": "code",
   "execution_count": 437,
   "id": "8518b50a-4f1c-4773-8bbc-9703f70107ce",
   "metadata": {},
   "outputs": [
    {
     "data": {
      "text/plain": [
       "0.31889622183915356"
      ]
     },
     "execution_count": 437,
     "metadata": {},
     "output_type": "execute_result"
    }
   ],
   "source": [
    "from sklearn.metrics import mean_absolute_error\n",
    "mean_absolute_error(y,y_predicted)"
   ]
  },
  {
   "cell_type": "code",
   "execution_count": null,
   "id": "ef3a2cf8-22c6-4d88-9c0b-0096687888af",
   "metadata": {},
   "outputs": [],
   "source": []
  }
 ],
 "metadata": {
  "kernelspec": {
   "display_name": "Python 3 (ipykernel)",
   "language": "python",
   "name": "python3"
  },
  "language_info": {
   "codemirror_mode": {
    "name": "ipython",
    "version": 3
   },
   "file_extension": ".py",
   "mimetype": "text/x-python",
   "name": "python",
   "nbconvert_exporter": "python",
   "pygments_lexer": "ipython3",
   "version": "3.12.5"
  }
 },
 "nbformat": 4,
 "nbformat_minor": 5
}
